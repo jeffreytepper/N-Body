{
 "cells": [
  {
   "cell_type": "markdown",
   "metadata": {},
   "source": [
    "Copyright (C) 2019  Patrick Diehl\n",
    "\n",
    "This program is free software: you can redistribute it and/or modify\n",
    "it under the terms of the GNU General Public License as published by\n",
    "the Free Software Foundation, either version 3 of the License, or\n",
    "(at your option) any later version.\n",
    "\n",
    "This program is distributed in the hope that it will be useful,\n",
    "but WITHOUT ANY WARRANTY; without even the implied warranty of\n",
    "MERCHANTABILITY or FITNESS FOR A PARTICULAR PURPOSE.  See the\n",
    "GNU General Public License for more details.\n",
    "\n",
    "You should have received a copy of the GNU General Public License\n",
    "along with this program.  If not, see <http://www.gnu.org/licenses/>."
   ]
  },
  {
   "cell_type": "code",
   "execution_count": 1,
   "metadata": {},
   "outputs": [
    {
     "data": {
      "text/plain": []
     },
     "execution_count": 1,
     "metadata": {},
     "output_type": "execute_result"
    }
   ],
   "source": [
    "#include<iostream>\n",
    "#include <fstream>\n",
    "#include <string>\n",
    "#include <vector>\n",
    "#include <iomanip>"
   ]
  },
  {
   "cell_type": "code",
   "execution_count": 2,
   "metadata": {},
   "outputs": [
    {
     "data": {
      "text/plain": []
     },
     "execution_count": 2,
     "metadata": {},
     "output_type": "execute_result"
    }
   ],
   "source": [
    "#define TYPE double"
   ]
  },
  {
   "cell_type": "markdown",
   "metadata": {},
   "source": [
    "# N-body simulation"
   ]
  },
  {
   "cell_type": "markdown",
   "metadata": {},
   "source": [
    "In this exercise, we will implement the N-Body simulating using a direct sum to compute the forces and the Euler Method to update the positons"
   ]
  },
  {
   "cell_type": "markdown",
   "metadata": {},
   "source": [
    "## Datastructure"
   ]
  },
  {
   "cell_type": "markdown",
   "metadata": {},
   "source": [
    "* Write a generic struct for a vector\n",
    "* Add a function to compute the vector's norm\n",
    "* Add a constructor which initializes the vector to zero\n",
    "* Overload the operators +,-, and == for a second vector and the operator * for multplication with a scalar"
   ]
  },
  {
   "cell_type": "code",
   "execution_count": 3,
   "metadata": {},
   "outputs": [
    {
     "data": {
      "text/plain": []
     },
     "execution_count": 3,
     "metadata": {},
     "output_type": "execute_result"
    }
   ],
   "source": [
    "struct vector\n",
    "{\n",
    "    \n",
    "    double x,y,z;\n",
    "    \n",
    "        bool operator==(const vector& rhs) const {\n",
    "        return x == rhs.x\n",
    "            && y == rhs.y\n",
    "            && z == rhs.z;\n",
    "    }\n",
    "\n",
    "    friend std::istream& operator>>(std::istream&, vector&);\n",
    "    friend std::ostream& operator<<(std::ostream&, vector&);\n",
    "};"
   ]
  },
  {
   "cell_type": "code",
   "execution_count": 4,
   "metadata": {},
   "outputs": [
    {
     "data": {
      "text/plain": []
     },
     "execution_count": 4,
     "metadata": {},
     "output_type": "execute_result"
    }
   ],
   "source": [
    "extern \"C++\" \n",
    "std::istream& operator>>(std::istream& in, vector& v) {\n",
    "    return in >> v.x >> v.y >> v.z;\n",
    "}\n"
   ]
  },
  {
   "cell_type": "code",
   "execution_count": 5,
   "metadata": {},
   "outputs": [
    {
     "data": {
      "text/plain": []
     },
     "execution_count": 5,
     "metadata": {},
     "output_type": "execute_result"
    }
   ],
   "source": [
    "extern \"C++\"\n",
    "std::ostream& operator<<(std::ostream& out, vector& v) {\n",
    "    auto precision = out.precision();\n",
    "    auto width = out.width();\n",
    "    out << std::setw(width) << std::setprecision(precision) << v.x << \"  \";\n",
    "    out << std::setw(width) << std::setprecision(precision) << v.y << \"  \";\n",
    "    out << std::setw(width) << std::setprecision(precision) << v.z;\n",
    "    return out;\n",
    "}"
   ]
  },
  {
   "cell_type": "markdown",
   "metadata": {},
   "source": [
    "## Class for the $N$-body simulation\n",
    "\n",
    "* Write a function to compute the force $\\mathbf{F}_i=\\sum\\limits_{i=0,i\\neq j}^n \\mathbf{F}_{ij}= \\sum\\limits_{i=0,i\\neq j}^n g_c m_j \\frac{\\mathbf{r}_j-\\mathbf{r}_i}{\\vert \\mathbf{r}_j - \\mathbf{r}_i\\vert^3}$ for each body using a direct sum\n",
    "* Write a function to compute the velocity $\\mathbf{v}_i(t_k)=\\mathbf{v}_i(t_{k-1})+\\Delta t \\frac{\\mathbf{F}_i}{m_i}$ for each body\n",
    "* Write a function to update the new positions $\\mathbf{r}_i(t_{k+1})=\\mathbf{r}_i(t_k)+\\mathbf{v}_i(t_k)\\Delta t$ of a each body"
   ]
  },
  {
   "cell_type": "code",
   "execution_count": 6,
   "metadata": {},
   "outputs": [
    {
     "data": {
      "text/plain": []
     },
     "execution_count": 6,
     "metadata": {},
     "output_type": "execute_result"
    }
   ],
   "source": [
    "class Nbody\n",
    "{\n",
    "\n",
    "private:\n",
    "\n",
    "double gc;\n",
    "size_t n;\n",
    "TYPE timeStepSize;\n",
    "std::vector<double> masses;\n",
    "std::vector<vector> positions;\n",
    "std::vector<vector> velocities;\n",
    "std::vector<vector> velocitiesOld;\n",
    "std::vector<vector> forces;\n",
    "\n",
    "public:\n",
    "\n",
    "size_t timeSteps;\n",
    "\n",
    "//Method to compute the acceleration\n",
    "void computeForces(){}\n",
    "\n",
    "//Method to compute the velocity\n",
    "void computeVelocities(){\n",
    "    \n",
    "     std::copy(velocities.begin(),velocities.end(),velocitiesOld.begin());\n",
    "}\n",
    "\n",
    "//Method to update the positions\n",
    "void updatePositions(){}\n",
    "\n",
    "//Method to detect collisions between bodys\n",
    "void detectCollisions(){\n",
    "\n",
    "  for (int i = 0; i < n; ++i) {\n",
    "            for (int j = i + 1; j < n; ++j) {\n",
    "                if (positions[i] == positions[j]) {\n",
    "                    std::swap(velocities[i], velocities[j]);\n",
    "                }\n",
    "            }\n",
    "        }\n",
    "\n",
    "}\n",
    "\n",
    "public:\n",
    "\n",
    "//Constructor\n",
    "Nbody(std::string& fileName) { \n",
    "\n",
    "std::ifstream ifs(fileName);\n",
    "        if (!ifs.is_open()) {\n",
    "            throw std::runtime_error(\"Could not open \" + fileName + \"!\");\n",
    "        }\n",
    "        \n",
    "\n",
    "//Read the gravity, the number of bodies, and the number of timesteps\n",
    "ifs >> gc >> n >> timeSteps >> timeStepSize;\n",
    "\n",
    "masses.resize(n);\n",
    "positions.resize(n);\n",
    "std::fill(positions.begin(), positions.end(), vector());\n",
    "velocities.resize(n);\n",
    "std::fill(velocities.begin(), velocities.end(), vector());\n",
    "velocities.resize(n);\n",
    "std::fill(velocities.begin(), velocities.end(), vector());\n",
    "velocitiesOld.resize(n);\n",
    "std::fill(velocitiesOld.begin(), velocitiesOld.end(), vector());\n",
    "forces.resize(n);\n",
    "std::fill(forces.begin(), forces.end(), vector());\n",
    "\n",
    "for (int i = 0; i < n; ++i) {\n",
    "            ifs >> masses[i] >> positions[i] >> velocities[i];\n",
    "        }\n",
    " \n",
    "        std::cout << \"Contents of \" << fileName << std::endl;\n",
    "        std::cout << gc << ' ' << n << ' ' << timeSteps << std::endl;\n",
    "        for (int i = 0; i < n; ++i) {\n",
    "            std::cout << masses[i] << std::endl;\n",
    "            std::cout << positions[i] << std::endl;\n",
    "            std::cout << velocities[i] << std::endl;\n",
    "        }\n",
    "        std::cout << std::endl << \"Data   :      x          y          z    |     vx         vy         vz\" << std::endl;\n",
    "\n",
    "}\n",
    "\n",
    "\n",
    "friend std::ostream& operator<<(std::ostream&, Nbody&);\n",
    "\n",
    "};"
   ]
  },
  {
   "cell_type": "code",
   "execution_count": 7,
   "metadata": {},
   "outputs": [
    {
     "data": {
      "text/plain": []
     },
     "execution_count": 7,
     "metadata": {},
     "output_type": "execute_result"
    }
   ],
   "source": [
    "extern \"C++\"\n",
    "std::ostream& operator<<(std::ostream& out, Nbody& nb) {\n",
    "    for (int i = 0; i < nb.n; ++i) {\n",
    "        out << \"Body \" << i + 1 << \" : \";\n",
    "        out << std::setprecision(6) << std::setw(9) << nb.positions[i];\n",
    "        out << \" | \";\n",
    "        out << std::setprecision(6) << std::setw(9) << nb.velocities[i];\n",
    "        out << std::endl;\n",
    "    }\n",
    "    return out;\n",
    "}"
   ]
  },
  {
   "cell_type": "code",
   "execution_count": 8,
   "metadata": {},
   "outputs": [
    {
     "data": {
      "text/plain": []
     },
     "execution_count": 8,
     "metadata": {},
     "output_type": "execute_result"
    }
   ],
   "source": [
    "std::string fileName = \"nbody.txt\";\n"
   ]
  },
  {
   "cell_type": "code",
   "execution_count": 9,
   "metadata": {},
   "outputs": [
    {
     "name": "stdout",
     "output_type": "stream",
     "text": [
      "Contents of nbody.txt\n",
      "0.01 3 20\n",
      "1\n",
      "0  0  0\n",
      "0.01  0  0\n",
      "0.1\n",
      "1  1  0\n",
      "0  0  0.02\n",
      "0.001\n",
      "0  1  1\n",
      "0.01  -0.01  -0.01\n",
      "\n",
      "Data   :      x          y          z    |     vx         vy         vz\n"
     ]
    },
    {
     "data": {
      "text/plain": []
     },
     "execution_count": 9,
     "metadata": {},
     "output_type": "execute_result"
    }
   ],
   "source": [
    "Nbody nb(fileName);\n"
   ]
  },
  {
   "cell_type": "code",
   "execution_count": 10,
   "metadata": {},
   "outputs": [
    {
     "name": "stdout",
     "output_type": "stream",
     "text": [
      "\n",
      "Cycle 0\n",
      "Body 1 :         0          0          0 |      0.01          0          0\n",
      "Body 2 :         1          1          0 |         0          0       0.02\n",
      "Body 3 :         0          1          1 |      0.01      -0.01      -0.01\n",
      "\n",
      "Cycle 1\n",
      "Body 1 :         0          0          0 |      0.01          0          0\n",
      "Body 2 :         1          1          0 |         0          0       0.02\n",
      "Body 3 :         0          1          1 |      0.01      -0.01      -0.01\n",
      "\n",
      "Cycle 2\n",
      "Body 1 :         0          0          0 |      0.01          0          0\n",
      "Body 2 :         1          1          0 |         0          0       0.02\n",
      "Body 3 :         0          1          1 |      0.01      -0.01      -0.01\n",
      "\n",
      "Cycle 3\n",
      "Body 1 :         0          0          0 |      0.01          0          0\n",
      "Body 2 :         1          1          0 |         0          0       0.02\n",
      "Body 3 :         0          1          1 |      0.01      -0.01      -0.01\n",
      "\n",
      "Cycle 4\n",
      "Body 1 :         0          0          0 |      0.01          0          0\n",
      "Body 2 :         1          1          0 |         0          0       0.02\n",
      "Body 3 :         0          1          1 |      0.01      -0.01      -0.01\n",
      "\n",
      "Cycle 5\n",
      "Body 1 :         0          0          0 |      0.01          0          0\n",
      "Body 2 :         1          1          0 |         0          0       0.02\n",
      "Body 3 :         0          1          1 |      0.01      -0.01      -0.01\n",
      "\n",
      "Cycle 6\n",
      "Body 1 :         0          0          0 |      0.01          0          0\n",
      "Body 2 :         1          1          0 |         0          0       0.02\n",
      "Body 3 :         0          1          1 |      0.01      -0.01      -0.01\n",
      "\n",
      "Cycle 7\n",
      "Body 1 :         0          0          0 |      0.01          0          0\n",
      "Body 2 :         1          1          0 |         0          0       0.02\n",
      "Body 3 :         0          1          1 |      0.01      -0.01      -0.01\n",
      "\n",
      "Cycle 8\n",
      "Body 1 :         0          0          0 |      0.01          0          0\n",
      "Body 2 :         1          1          0 |         0          0       0.02\n",
      "Body 3 :         0          1          1 |      0.01      -0.01      -0.01\n",
      "\n",
      "Cycle 9\n",
      "Body 1 :         0          0          0 |      0.01          0          0\n",
      "Body 2 :         1          1          0 |         0          0       0.02\n",
      "Body 3 :         0          1          1 |      0.01      -0.01      -0.01\n",
      "\n",
      "Cycle 10\n",
      "Body 1 :         0          0          0 |      0.01          0          0\n",
      "Body 2 :         1          1          0 |         0          0       0.02\n",
      "Body 3 :         0          1          1 |      0.01      -0.01      -0.01\n",
      "\n",
      "Cycle 11\n",
      "Body 1 :         0          0          0 |      0.01          0          0\n",
      "Body 2 :         1          1          0 |         0          0       0.02\n",
      "Body 3 :         0          1          1 |      0.01      -0.01      -0.01\n",
      "\n",
      "Cycle 12\n",
      "Body 1 :         0          0          0 |      0.01          0          0\n",
      "Body 2 :         1          1          0 |         0          0       0.02\n",
      "Body 3 :         0          1          1 |      0.01      -0.01      -0.01\n",
      "\n",
      "Cycle 13\n",
      "Body 1 :         0          0          0 |      0.01          0          0\n",
      "Body 2 :         1          1          0 |         0          0       0.02\n",
      "Body 3 :         0          1          1 |      0.01      -0.01      -0.01\n",
      "\n",
      "Cycle 14\n",
      "Body 1 :         0          0          0 |      0.01          0          0\n",
      "Body 2 :         1          1          0 |         0          0       0.02\n",
      "Body 3 :         0          1          1 |      0.01      -0.01      -0.01\n",
      "\n",
      "Cycle 15\n",
      "Body 1 :         0          0          0 |      0.01          0          0\n",
      "Body 2 :         1          1          0 |         0          0       0.02\n",
      "Body 3 :         0          1          1 |      0.01      -0.01      -0.01\n",
      "\n",
      "Cycle 16\n",
      "Body 1 :         0          0          0 |      0.01          0          0\n",
      "Body 2 :         1          1          0 |         0          0       0.02\n",
      "Body 3 :         0          1          1 |      0.01      -0.01      -0.01\n",
      "\n",
      "Cycle 17\n",
      "Body 1 :         0          0          0 |      0.01          0          0\n",
      "Body 2 :         1          1          0 |         0          0       0.02\n",
      "Body 3 :         0          1          1 |      0.01      -0.01      -0.01\n",
      "\n",
      "Cycle 18\n",
      "Body 1 :         0          0          0 |      0.01          0          0\n",
      "Body 2 :         1          1          0 |         0          0       0.02\n",
      "Body 3 :         0          1          1 |      0.01      -0.01      -0.01\n",
      "\n",
      "Cycle 19\n",
      "Body 1 :         0          0          0 |      0.01          0          0\n",
      "Body 2 :         1          1          0 |         0          0       0.02\n",
      "Body 3 :         0          1          1 |      0.01      -0.01      -0.01\n"
     ]
    },
    {
     "data": {
      "text/plain": []
     },
     "execution_count": 10,
     "metadata": {},
     "output_type": "execute_result"
    }
   ],
   "source": [
    "for(size_t t = 0 ; t < nb.timeSteps;t++){\n",
    "\n",
    "std::cout << std::endl << \"Cycle \" << t << std::endl;\n",
    "nb.computeForces();\n",
    "nb.computeVelocities();\n",
    "nb.updatePositions();\n",
    "nb.detectCollisions();\n",
    "std::cout << nb;\n",
    "\n",
    "}"
   ]
  }
 ],
 "metadata": {
  "kernelspec": {
   "display_name": "Python 3",
   "language": "python",
   "name": "python3"
  },
  "language_info": {
   "codemirror_mode": {
    "name": "ipython",
    "version": 3
   },
   "file_extension": ".py",
   "mimetype": "text/x-python",
   "name": "python",
   "nbconvert_exporter": "python",
   "pygments_lexer": "ipython3",
   "version": "3.7.3"
  }
 },
 "nbformat": 4,
 "nbformat_minor": 2
}
